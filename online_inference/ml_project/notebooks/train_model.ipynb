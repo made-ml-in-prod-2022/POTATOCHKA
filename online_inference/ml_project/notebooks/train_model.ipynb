{
 "cells": [
  {
   "cell_type": "code",
   "execution_count": 22,
   "id": "4908fbfb",
   "metadata": {
    "ExecuteTime": {
     "end_time": "2022-05-05T13:47:22.963163Z",
     "start_time": "2022-05-05T13:47:22.959137Z"
    }
   },
   "outputs": [],
   "source": [
    "import pandas as pd\n",
    "import numpy as np\n",
    "from sklearn.preprocessing import OneHotEncoder\n",
    "from sklearn.base import BaseEstimator, TransformerMixin\n",
    "from sklearn.preprocessing import OneHotEncoder\n",
    "from sklearn.preprocessing import StandardScaler\n",
    "from sklearn.model_selection import train_test_split"
   ]
  },
  {
   "cell_type": "code",
   "execution_count": 23,
   "id": "225351bc",
   "metadata": {
    "ExecuteTime": {
     "end_time": "2022-05-05T13:47:23.126537Z",
     "start_time": "2022-05-05T13:47:23.121113Z"
    }
   },
   "outputs": [],
   "source": [
    "class DatasetTransformer(BaseEstimator, TransformerMixin):\n",
    "    def __init__(self, transform_to_features):\n",
    "        self.transform_to_features = transform_to_features\n",
    "        self.ohe = OneHotEncoder()\n",
    "        self.scaler = StandardScaler()\n",
    "\n",
    "    def fit(self, X, y=None):\n",
    "        for transform in self.transform_to_features:\n",
    "            columns = self.transform_to_features[transform]\n",
    "            if transform == 'StandardScaler':\n",
    "                self.scaler.fit(X[columns])\n",
    "            elif transform == 'OneHotEncoder':\n",
    "                self.ohe.fit(X[columns])\n",
    "        return self\n",
    "\n",
    "    def transform(self, X, y=None):\n",
    "        transformed_features = []\n",
    "        for transform in self.transform_to_features:\n",
    "            columns = self.transform_to_features[transform]\n",
    "            if transform == 'StandardScaler':\n",
    "                scaled_feats = self.scaler.transform(X[columns])\n",
    "                transformed_features.append(scaled_feats)\n",
    "            elif transform == 'OneHotEncoder':\n",
    "                ohe_feats = self.ohe.transform(X[columns]).toarray()\n",
    "                transformed_features.append(ohe_feats)\n",
    "            elif transform == 'pass':\n",
    "                defualt_feats = X[columns]\n",
    "                transformed_features.append(defualt_feats)\n",
    "        X_transformed = np.hstack(transformed_features)\n",
    "        return X_transformed"
   ]
  },
  {
   "cell_type": "code",
   "execution_count": 24,
   "id": "c909e33b",
   "metadata": {
    "ExecuteTime": {
     "end_time": "2022-05-05T13:47:23.301630Z",
     "start_time": "2022-05-05T13:47:23.295744Z"
    }
   },
   "outputs": [],
   "source": [
    "data = pd.read_csv('../data/raw/heart_cleveland_upload.csv')"
   ]
  },
  {
   "cell_type": "code",
   "execution_count": 25,
   "id": "dbdc6be5",
   "metadata": {
    "ExecuteTime": {
     "end_time": "2022-05-05T13:47:23.458891Z",
     "start_time": "2022-05-05T13:47:23.443943Z"
    }
   },
   "outputs": [],
   "source": [
    "target = data['condition']\n",
    "data.drop(['condition'], axis=1, inplace=True)\n",
    "binary_feats = list(data.nunique()[data.nunique() == 2].index)\n",
    "categorical_feats = list(data.nunique()[(data.nunique() > 2) & (data.nunique() < 10)].index)\n",
    "numerical_feats = list(data.nunique()[data.nunique() > 10].index)"
   ]
  },
  {
   "cell_type": "code",
   "execution_count": 26,
   "id": "0f4798a2",
   "metadata": {
    "ExecuteTime": {
     "end_time": "2022-05-05T13:47:23.911368Z",
     "start_time": "2022-05-05T13:47:23.906120Z"
    }
   },
   "outputs": [],
   "source": [
    "X_train, X_test, y_train, y_test = train_test_split(data, target, test_size=0.2, random_state=42)"
   ]
  },
  {
   "cell_type": "code",
   "execution_count": 27,
   "id": "6507dcc9",
   "metadata": {
    "ExecuteTime": {
     "end_time": "2022-05-05T13:47:24.320744Z",
     "start_time": "2022-05-05T13:47:24.302811Z"
    }
   },
   "outputs": [],
   "source": [
    "d = {'StandardScaler':numerical_feats, 'OneHotEncoder':categorical_feats, 'pass': binary_feats}\n",
    "transform.fit(X_train)\n",
    "X_train_transformed = transform.transform(X_train)"
   ]
  },
  {
   "cell_type": "code",
   "execution_count": 28,
   "id": "a216f5ed",
   "metadata": {
    "ExecuteTime": {
     "end_time": "2022-05-05T13:47:24.777168Z",
     "start_time": "2022-05-05T13:47:24.768854Z"
    }
   },
   "outputs": [],
   "source": [
    "X_test_transformed = transform.transform(X_test)"
   ]
  },
  {
   "cell_type": "code",
   "execution_count": 30,
   "id": "15299888",
   "metadata": {
    "ExecuteTime": {
     "end_time": "2022-05-05T13:47:26.910149Z",
     "start_time": "2022-05-05T13:47:26.904406Z"
    }
   },
   "outputs": [],
   "source": [
    "from sklearn.linear_model import LogisticRegression"
   ]
  },
  {
   "cell_type": "code",
   "execution_count": 31,
   "id": "7548c20f",
   "metadata": {
    "ExecuteTime": {
     "end_time": "2022-05-05T13:47:27.817925Z",
     "start_time": "2022-05-05T13:47:27.802078Z"
    }
   },
   "outputs": [
    {
     "data": {
      "text/plain": [
       "0.8"
      ]
     },
     "execution_count": 31,
     "metadata": {},
     "output_type": "execute_result"
    }
   ],
   "source": [
    "logreg = LogisticRegression()\n",
    "logreg.fit(X_train_transformed, y_train)\n",
    "y_pred = logreg.predict(X_test_transformed)\n",
    "sum(y_pred == y_test)/y_test.shape[0]"
   ]
  },
  {
   "cell_type": "code",
   "execution_count": 16,
   "id": "719593d8",
   "metadata": {
    "ExecuteTime": {
     "end_time": "2022-05-05T12:14:15.113544Z",
     "start_time": "2022-05-05T12:14:14.977265Z"
    }
   },
   "outputs": [],
   "source": [
    "from catboost import CatBoostClassifier"
   ]
  },
  {
   "cell_type": "code",
   "execution_count": 72,
   "id": "d0550be3",
   "metadata": {
    "ExecuteTime": {
     "end_time": "2022-05-03T17:51:03.029362Z",
     "start_time": "2022-05-03T17:51:03.026887Z"
    }
   },
   "outputs": [],
   "source": [
    "clf_boost = CatBoostClassifier()"
   ]
  },
  {
   "cell_type": "code",
   "execution_count": 73,
   "id": "95a46e17",
   "metadata": {
    "ExecuteTime": {
     "end_time": "2022-05-03T17:51:03.933495Z",
     "start_time": "2022-05-03T17:51:03.234219Z"
    }
   },
   "outputs": [
    {
     "data": {
      "text/plain": [
       "0.7833333333333333"
      ]
     },
     "execution_count": 73,
     "metadata": {},
     "output_type": "execute_result"
    }
   ],
   "source": [
    "clf_boost.fit(X_train_transformed, y_train, verbose=False)\n",
    "y_pred = clf_boost.predict(X_test_transformed)\n",
    "sum(y_pred == y_test)/y_test.shape[0]"
   ]
  },
  {
   "cell_type": "code",
   "execution_count": null,
   "id": "fa75daaa",
   "metadata": {},
   "outputs": [],
   "source": []
  }
 ],
 "metadata": {
  "kernelspec": {
   "display_name": "Python 3 (ipykernel)",
   "language": "python",
   "name": "python3"
  },
  "language_info": {
   "codemirror_mode": {
    "name": "ipython",
    "version": 3
   },
   "file_extension": ".py",
   "mimetype": "text/x-python",
   "name": "python",
   "nbconvert_exporter": "python",
   "pygments_lexer": "ipython3",
   "version": "3.8.10"
  },
  "varInspector": {
   "cols": {
    "lenName": 16,
    "lenType": 16,
    "lenVar": 40
   },
   "kernels_config": {
    "python": {
     "delete_cmd_postfix": "",
     "delete_cmd_prefix": "del ",
     "library": "var_list.py",
     "varRefreshCmd": "print(var_dic_list())"
    },
    "r": {
     "delete_cmd_postfix": ") ",
     "delete_cmd_prefix": "rm(",
     "library": "var_list.r",
     "varRefreshCmd": "cat(var_dic_list()) "
    }
   },
   "types_to_exclude": [
    "module",
    "function",
    "builtin_function_or_method",
    "instance",
    "_Feature"
   ],
   "window_display": false
  }
 },
 "nbformat": 4,
 "nbformat_minor": 5
}
